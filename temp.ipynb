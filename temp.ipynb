{
 "cells": [
  {
   "cell_type": "code",
   "execution_count": 3,
   "id": "3cbc09bb",
   "metadata": {},
   "outputs": [],
   "source": [
    "import pandas as pd \n",
    "import numpy as np"
   ]
  },
  {
   "cell_type": "code",
   "execution_count": 4,
   "id": "151fec1f",
   "metadata": {},
   "outputs": [],
   "source": [
    "#load data\n",
    "#data cols are xyz locations of red1, red2, blue1, blue2, yellow1, yellow2\n",
    "df=pd.read_csv('data.csv')\n",
    "assert not df.isnull().values.any(), \"Null values in df\"\n",
    "assert len(df.columns) == 18, \"num cols not 18\""
   ]
  },
  {
   "cell_type": "code",
   "execution_count": 43,
   "id": "c2afda8b",
   "metadata": {},
   "outputs": [],
   "source": [
    "def get_attr(sample):\n",
    "    sample=sample.to_numpy()\n",
    "\n",
    "    red1 = (sample[0:3])\n",
    "    red2 = (sample[3:6])\n",
    "    blue1 = (sample[6:9])\n",
    "    blue2 = (sample[9:12])\n",
    "    yellow1 = (sample[12:15])\n",
    "    yellow2 = (sample[15:18])\n",
    "\n",
    "    return red1, red2, blue1, blue2, yellow1, yellow2\n",
    "    "
   ]
  },
  {
   "cell_type": "code",
   "execution_count": 50,
   "id": "7ff83e80",
   "metadata": {},
   "outputs": [],
   "source": [
    "#see problem 4c of https://sites.math.washington.edu/~ep2/material/math318/worksheets/Homework5.pdf\n",
    "\n",
    "#input is a tuple of (red1, red2, blue1, blue2, yellow1, yellow2)\n",
    "def is_inside(input, ratio_w, ratio_d):\n",
    "    #input=input.to_numpy()\n",
    "    red1=input[0]\n",
    "    R1R2=np.subtract(input[1] , input[0]) #line from red1 to red2\n",
    "    length=np.linalg.norm(R1R2) #distance between red1 and red2\n",
    "    unit_length = R1R2 / length #unit vector of R1R2\n",
    "    #print(R1R2)\n",
    "    \n",
    " \n",
    "    H = np.subtract(np.identity(3), unit_length[:, None] @ unit_length[None, :])\n",
    "    eigenValues, eigenVectors = np.linalg.eig(H)\n",
    "    ## Get the indices that would sort the eigenvalues\n",
    "    idx = eigenValues.argsort()\n",
    "    ## Sort eigenvectors using these indices\n",
    "    eigenVectors = eigenVectors[:, idx]\n",
    "\n",
    "    evecs_T=eigenVectors.transpose()\n",
    "\n",
    "    unit_width=evecs_T[1]\n",
    "    unit_depth=evecs_T[2]\n",
    "\n",
    "    if (unit_width[2]>unit_depth[2]):\n",
    "        unit_width=evecs_T[2]\n",
    "        unit_depth=evecs_T[1]\n",
    "\n",
    "    RW=unit_width*(length/2)*ratio_w\n",
    "    RD=unit_depth*(length/2)*ratio_d\n",
    "\n",
    "    def boxchecker(loc):\n",
    "        if (-np.dot(RW, RW) <= np.dot(RW, np.subtract(loc , red1)) and\n",
    "            np.dot(RW, np.subtract(loc , red1))  <= np.dot(RW, RW) and\n",
    "\n",
    "            -np.dot(RD, RD) <= np.dot(RD, np.subtract(loc , red1)) and\n",
    "            np.dot(RD, np.subtract(loc , red1))  <= np.dot(RD, RD) and\n",
    "\n",
    "            0<= np.dot(R1R2, np.subtract(loc , red1)) and\n",
    "            np.dot(R1R2, np.subtract(loc , red1))  <= np.dot(R1R2, R1R2)):\n",
    "\n",
    "            return True\n",
    "        return False\n",
    "    \n",
    "    return boxchecker(input[2]) and boxchecker(input[3]) and boxchecker(input[4]) and boxchecker(input[5])\n",
    "         \n",
    "\n"
   ]
  },
  {
   "cell_type": "code",
   "execution_count": 64,
   "id": "ca37a1fe",
   "metadata": {},
   "outputs": [
    {
     "name": "stdout",
     "output_type": "stream",
     "text": [
      "63\n",
      "49\n"
     ]
    }
   ],
   "source": [
    "test=get_attr(df.iloc[0])\n",
    "is_inside(test, 1, 1)\n",
    "\n",
    "sum=0\n",
    "\n",
    "for index, row in df.iterrows():\n",
    "    stuff=get_attr(row)\n",
    "    if is_inside(stuff, 5000000, 5000000):\n",
    "        sum+=1\n",
    "print(len(df))\n",
    "print(sum)\n",
    "\n"
   ]
  }
 ],
 "metadata": {
  "kernelspec": {
   "display_name": "Python 3",
   "language": "python",
   "name": "python3"
  },
  "language_info": {
   "codemirror_mode": {
    "name": "ipython",
    "version": 3
   },
   "file_extension": ".py",
   "mimetype": "text/x-python",
   "name": "python",
   "nbconvert_exporter": "python",
   "pygments_lexer": "ipython3",
   "version": "3.13.2"
  }
 },
 "nbformat": 4,
 "nbformat_minor": 5
}
